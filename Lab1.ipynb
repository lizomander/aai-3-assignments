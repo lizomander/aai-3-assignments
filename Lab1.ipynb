{
 "cells": [
  {
   "attachments": {},
   "cell_type": "markdown",
   "metadata": {},
   "source": [
    "### Lab work 1: Multi Class Classification\n",
    "1. **Goal**\n",
    "   \n",
    "   Study and assess the performance of the two different multi class classification approaches discussed in the lecture. You will be using a kaggle data source, the so called “wine quality”, a public usable data source. It provides more than 1000 samples with 11 attributes and its “Y” which designates the quality of a red wine.\n",
    "\n",
    "   The original Kaggle data source was modified towards having now three targets Y, i.e., the wine quality or classes:\n",
    "   Y=0 poor quality for {Y=2,3,4},\n",
    "   Y=1 medium quality for {Y=5,6}\n",
    "   Y=2 premium quality for {Y=7,8}\n",
    "\n",
    "   [Wine quality](https://www.kaggle.com/datasets/yasserh/wine-quality-dataset)"
   ]
  },
  {
   "cell_type": "code",
   "execution_count": null,
   "metadata": {},
   "outputs": [],
   "source": [
    "# ALL THE IMPORTS FIRST\n",
    "import numpy as np\n",
    "import pandas as pd\n",
    "import matplotlib.pyplot as plt\n",
    "from sklearn.gaussian_process import GaussianProcessClassifier\n",
    "from sklearn.multiclass import OneVsRestClassifier\n",
    "from sklearn.metrics import RocCurveDisplay\n",
    "from sklearn.svm import SVC\n",
    "from sklearn.metrics import confusion_matrix, classification_report\n",
    "from sklearn.model_selection import train_test_split\n"
   ]
  },
  {
   "attachments": {},
   "cell_type": "markdown",
   "metadata": {},
   "source": [
    "> First I downloaded all the required libraries. Then start with writin the questions down, so that it is easy to read. "
   ]
  },
  {
   "cell_type": "code",
   "execution_count": null,
   "metadata": {},
   "outputs": [],
   "source": [
    "wine_test = pd.read_csv(\"Wine_Test_02.csv\")\n",
    "X = wine_test.drop(\"Y\", axis=1)\n",
    "y = wine_test[\"Y\"]\n",
    "\n",
    "# Train-test split\n",
    "X_train, X_test, y_train, y_test = train_test_split(X, y, test_size=0.2, random_state=42)\n",
    "\n",
    "def train_eval(model_name, model):\n",
    "    model.fit(X_train, y_train)\n",
    "    y_pred = model.predict(X_test)\n",
    "    accuracy = model.score(X_test, y_pred)\n",
    "    \n",
    "    confm = confusion_matrix(y_test, y_pred)\n",
    "\n",
    "    "
   ]
  },
  {
   "attachments": {},
   "cell_type": "markdown",
   "metadata": {},
   "source": [
    "2. **After completion you have learned**\n",
    "\n",
    "    ➢ The importance of balanced data sources\n",
    "\n",
    "    ➢ Applying the multi class classification using scikit learn libs\n",
    "\n",
    "    ➢ Display further assessment parameter apart from the Accuracy"
   ]
  },
  {
   "cell_type": "code",
   "execution_count": null,
   "metadata": {},
   "outputs": [],
   "source": []
  },
  {
   "attachments": {},
   "cell_type": "markdown",
   "metadata": {},
   "source": [
    "3. **Tasks**\n",
    "   1. **Use original data source File**\n",
    "\n",
    "    Use \"Wine_Test_02.csv\""
   ]
  },
  {
   "cell_type": "code",
   "execution_count": null,
   "metadata": {},
   "outputs": [],
   "source": []
  },
  {
   "attachments": {},
   "cell_type": "markdown",
   "metadata": {},
   "source": [
    "1. Plot histogram of each attribute regarding Y=0, Y=1 and Y=2, and display the number of samples (Y) for each quality classes. What can you say regarding the quality (Y) classes distribution? What is your conclusion regarding the expected performance of the classifier?"
   ]
  },
  {
   "cell_type": "code",
   "execution_count": null,
   "metadata": {},
   "outputs": [],
   "source": []
  },
  {
   "attachments": {},
   "cell_type": "markdown",
   "metadata": {},
   "source": [
    "2. Perform one run of modeling and test. Compare the obtained test accuracy by using:\n",
    "   1. **One versus All Classifier**\n",
    "    And\n",
    "   2. **One versus One Classifier**\n",
    "**Use estimator=GaussianProcessClassifier().**\n",
    "You do not need to apply CV this time, one run only is sufficient.  "
   ]
  },
  {
   "attachments": {},
   "cell_type": "markdown",
   "metadata": {},
   "source": [
    "3. Print or plot the confusion matrix \n",
    "   \n",
    "   Discuss the entries of the matrix!"
   ]
  },
  {
   "attachments": {},
   "cell_type": "markdown",
   "metadata": {},
   "source": [
    "4. Print Classification report for both multi class classifier solutions, i.e.,\n",
    "    totally forgot home to make tables"
   ]
  },
  {
   "attachments": {},
   "cell_type": "markdown",
   "metadata": {},
   "source": [
    "5. Plot the ROC curve for all three classes"
   ]
  },
  {
   "attachments": {},
   "cell_type": "markdown",
   "metadata": {},
   "source": [
    "3. ö\n",
    "2. \n",
    "   **Use filtered data source file**"
   ]
  },
  {
   "attachments": {},
   "cell_type": "markdown",
   "metadata": {},
   "source": [
    "***TODO!!!***\n",
    "\n",
    "- histogram of source data\n",
    "- test confusion matrix and test accuracy, precision and recall with both data source for both **One versus All Classifier** and **One versus One Classifier**.\n",
    "- A brief comment of the obtained results?????\n",
    "- a plot of the ROC curves\n"
   ]
  }
 ],
 "metadata": {
  "kernelspec": {
   "display_name": "Python 3",
   "language": "python",
   "name": "python3"
  },
  "language_info": {
   "codemirror_mode": {
    "name": "ipython",
    "version": 3
   },
   "file_extension": ".py",
   "mimetype": "text/x-python",
   "name": "python",
   "nbconvert_exporter": "python",
   "pygments_lexer": "ipython3",
   "version": "3.11.3"
  },
  "orig_nbformat": 4
 },
 "nbformat": 4,
 "nbformat_minor": 2
}
